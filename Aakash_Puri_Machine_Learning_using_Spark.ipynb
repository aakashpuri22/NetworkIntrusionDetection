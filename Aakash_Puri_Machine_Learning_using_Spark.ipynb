{
  "nbformat": 4,
  "nbformat_minor": 0,
  "metadata": {
    "colab": {
      "provenance": []
    },
    "kernelspec": {
      "name": "python3",
      "display_name": "Python 3"
    },
    "language_info": {
      "name": "python"
    }
  },
  "cells": [
    {
      "cell_type": "markdown",
      "source": [
        "##Creating environment for Spark Hadoop"
      ],
      "metadata": {
        "id": "VAgDJz9Spenn"
      }
    },
    {
      "cell_type": "code",
      "source": [
        "!sudo apt update\n",
        "!apt-get install openjdk-8-jdk-headless -qq > /dev/null\n",
        "!wget -q https://dlcdn.apache.org/spark/spark-3.3.1/spark-3.3.1-bin-hadoop3.tgz"
      ],
      "metadata": {
        "colab": {
          "base_uri": "https://localhost:8080/"
        },
        "id": "p-_SjEBTKg1y",
        "outputId": "7af92a52-dc37-4e88-8324-919a536b6d82"
      },
      "execution_count": null,
      "outputs": [
        {
          "output_type": "stream",
          "name": "stdout",
          "text": [
            "\u001b[33m\r0% [Working]\u001b[0m\r            \rGet:1 http://security.ubuntu.com/ubuntu bionic-security InRelease [88.7 kB]\n",
            "\u001b[33m\r0% [Connecting to archive.ubuntu.com] [1 InRelease 14.2 kB/88.7 kB 16%] [Waitin\u001b[0m\r                                                                               \rGet:2 https://cloud.r-project.org/bin/linux/ubuntu bionic-cran40/ InRelease [3,626 B]\n",
            "\u001b[33m\r0% [Connecting to archive.ubuntu.com] [1 InRelease 14.2 kB/88.7 kB 16%] [2 InRe\u001b[0m\u001b[33m\r0% [Connecting to archive.ubuntu.com] [1 InRelease 14.2 kB/88.7 kB 16%] [Waitin\u001b[0m\u001b[33m\r0% [2 InRelease gpgv 3,626 B] [Connecting to archive.ubuntu.com (185.125.190.39\u001b[0m\r                                                                               \rIgn:3 https://developer.download.nvidia.com/compute/machine-learning/repos/ubuntu1804/x86_64  InRelease\n",
            "\u001b[33m\r0% [2 InRelease gpgv 3,626 B] [Connecting to archive.ubuntu.com (185.125.190.39\u001b[0m\r                                                                               \rHit:4 https://developer.download.nvidia.com/compute/cuda/repos/ubuntu1804/x86_64  InRelease\n",
            "Hit:5 https://developer.download.nvidia.com/compute/machine-learning/repos/ubuntu1804/x86_64  Release\n",
            "Get:6 http://ppa.launchpad.net/c2d4u.team/c2d4u4.0+/ubuntu bionic InRelease [15.9 kB]\n",
            "Hit:7 http://archive.ubuntu.com/ubuntu bionic InRelease\n",
            "Get:8 http://archive.ubuntu.com/ubuntu bionic-updates InRelease [88.7 kB]\n",
            "Hit:10 http://ppa.launchpad.net/cran/libgit2/ubuntu bionic InRelease\n",
            "Get:11 http://security.ubuntu.com/ubuntu bionic-security/universe amd64 Packages [1,559 kB]\n",
            "Hit:12 http://ppa.launchpad.net/deadsnakes/ppa/ubuntu bionic InRelease\n",
            "Get:13 http://archive.ubuntu.com/ubuntu bionic-backports InRelease [83.3 kB]\n",
            "Get:14 http://security.ubuntu.com/ubuntu bionic-security/multiverse amd64 Packages [22.8 kB]\n",
            "Get:15 http://security.ubuntu.com/ubuntu bionic-security/main amd64 Packages [3,065 kB]\n",
            "Get:16 http://security.ubuntu.com/ubuntu bionic-security/restricted amd64 Packages [1,262 kB]\n",
            "Hit:17 http://ppa.launchpad.net/graphics-drivers/ppa/ubuntu bionic InRelease\n",
            "Get:18 http://ppa.launchpad.net/c2d4u.team/c2d4u4.0+/ubuntu bionic/main Sources [2,221 kB]\n",
            "Get:19 http://archive.ubuntu.com/ubuntu bionic-updates/universe amd64 Packages [2,333 kB]\n",
            "Get:20 http://archive.ubuntu.com/ubuntu bionic-updates/main amd64 Packages [3,493 kB]\n",
            "Get:21 http://archive.ubuntu.com/ubuntu bionic-updates/restricted amd64 Packages [1,303 kB]\n",
            "Get:22 http://archive.ubuntu.com/ubuntu bionic-updates/multiverse amd64 Packages [29.9 kB]\n",
            "Get:23 http://ppa.launchpad.net/c2d4u.team/c2d4u4.0+/ubuntu bionic/main amd64 Packages [1,136 kB]\n",
            "Fetched 16.7 MB in 3s (5,599 kB/s)\n",
            "Reading package lists... Done\n",
            "Building dependency tree       \n",
            "Reading state information... Done\n",
            "6 packages can be upgraded. Run 'apt list --upgradable' to see them.\n"
          ]
        }
      ]
    },
    {
      "cell_type": "code",
      "source": [
        "!tar xf spark-3.3.1-bin-hadoop3.tgz"
      ],
      "metadata": {
        "id": "pEE5Y6_gKuF8"
      },
      "execution_count": null,
      "outputs": []
    },
    {
      "cell_type": "code",
      "source": [
        "!pip install -q findspark\n",
        "!pip install pyspark\n",
        "\n",
        "import os\n",
        "os.environ[\"JAVA_HOME\"] = \"/usr/lib/jvm/java-8-openjdk-amd64\"\n",
        "os.environ[\"SPARK_HOME\"] = \"/content/spark-3.3.1-bin-hadoop3\"\n",
        "\n",
        "import findspark\n",
        "findspark.init()\n",
        "findspark.find()\n",
        "\n",
        "from pyspark.sql import DataFrame, SparkSession\n",
        "from typing import List\n",
        "import pyspark.sql.types as T\n",
        "import pyspark.sql.functions as F\n",
        "\n",
        "spark = SparkSession \\\n",
        "       .builder \\\n",
        "       .appName(\"Our First Spark example\") \\\n",
        "       .getOrCreate()\n",
        "\n",
        "spark"
      ],
      "metadata": {
        "colab": {
          "base_uri": "https://localhost:8080/",
          "height": 477
        },
        "id": "KWF4qwJZM71D",
        "outputId": "234c864c-8a82-4e7e-8442-99e284e4ab83"
      },
      "execution_count": null,
      "outputs": [
        {
          "output_type": "stream",
          "name": "stdout",
          "text": [
            "Looking in indexes: https://pypi.org/simple, https://us-python.pkg.dev/colab-wheels/public/simple/\n",
            "Collecting pyspark\n",
            "  Downloading pyspark-3.3.1.tar.gz (281.4 MB)\n",
            "\u001b[K     |████████████████████████████████| 281.4 MB 45 kB/s \n",
            "\u001b[?25hCollecting py4j==0.10.9.5\n",
            "  Downloading py4j-0.10.9.5-py2.py3-none-any.whl (199 kB)\n",
            "\u001b[K     |████████████████████████████████| 199 kB 65.7 MB/s \n",
            "\u001b[?25hBuilding wheels for collected packages: pyspark\n",
            "  Building wheel for pyspark (setup.py) ... \u001b[?25l\u001b[?25hdone\n",
            "  Created wheel for pyspark: filename=pyspark-3.3.1-py2.py3-none-any.whl size=281845514 sha256=1bd18f49504f23cd3c7f0e3c578b8d6fe52430ef47d2ddb6e099ab221c6aee2d\n",
            "  Stored in directory: /root/.cache/pip/wheels/42/59/f5/79a5bf931714dcd201b26025347785f087370a10a3329a899c\n",
            "Successfully built pyspark\n",
            "Installing collected packages: py4j, pyspark\n",
            "Successfully installed py4j-0.10.9.5 pyspark-3.3.1\n"
          ]
        },
        {
          "output_type": "execute_result",
          "data": {
            "text/plain": [
              "<pyspark.sql.session.SparkSession at 0x7f5a668a4750>"
            ],
            "text/html": [
              "\n",
              "            <div>\n",
              "                <p><b>SparkSession - in-memory</b></p>\n",
              "                \n",
              "        <div>\n",
              "            <p><b>SparkContext</b></p>\n",
              "\n",
              "            <p><a href=\"http://a921e59d0a86:4040\">Spark UI</a></p>\n",
              "\n",
              "            <dl>\n",
              "              <dt>Version</dt>\n",
              "                <dd><code>v3.3.1</code></dd>\n",
              "              <dt>Master</dt>\n",
              "                <dd><code>local[*]</code></dd>\n",
              "              <dt>AppName</dt>\n",
              "                <dd><code>Our First Spark example</code></dd>\n",
              "            </dl>\n",
              "        </div>\n",
              "        \n",
              "            </div>\n",
              "        "
            ]
          },
          "metadata": {},
          "execution_count": 3
        }
      ]
    },
    {
      "cell_type": "markdown",
      "source": [
        "##Uploading content from Google Drive"
      ],
      "metadata": {
        "id": "ZPkxe-M0ptQm"
      }
    },
    {
      "cell_type": "code",
      "source": [
        "from google.colab import drive\n",
        "drive.mount('/content/drive', force_remount=True)"
      ],
      "metadata": {
        "colab": {
          "base_uri": "https://localhost:8080/"
        },
        "id": "CPD5Tp4-hZVa",
        "outputId": "3607ec19-349a-4344-ec1c-4d1d297dda03"
      },
      "execution_count": null,
      "outputs": [
        {
          "output_type": "stream",
          "name": "stdout",
          "text": [
            "Mounted at /content/drive\n"
          ]
        }
      ]
    },
    {
      "cell_type": "markdown",
      "source": [
        "##Importing Libraries"
      ],
      "metadata": {
        "id": "6HIRsVVcp-nG"
      }
    },
    {
      "cell_type": "code",
      "source": [
        "from pyspark.sql.functions import col\n",
        "from pyspark.sql.types import *"
      ],
      "metadata": {
        "id": "YhjVfr4wNcY9"
      },
      "execution_count": null,
      "outputs": []
    },
    {
      "cell_type": "code",
      "source": [
        "from pyspark.sql import Row\n",
        "from pyspark.sql.functions import desc\n",
        "from termcolor import colored"
      ],
      "metadata": {
        "id": "9l1L-opeOt6f"
      },
      "execution_count": null,
      "outputs": []
    },
    {
      "cell_type": "markdown",
      "source": [
        "##Analysing Data"
      ],
      "metadata": {
        "id": "P42mjefPqviO"
      }
    },
    {
      "cell_type": "code",
      "source": [
        "import time\n",
        "from pyspark.sql import SparkSession\n",
        "from pyspark.ml.feature import StringIndexer, VectorAssembler\n",
        "from pyspark.ml import Pipeline\n",
        "from pyspark.ml.classification import LogisticRegression, DecisionTreeClassifier, \\\n",
        "                                      NaiveBayes, RandomForestClassifier\n",
        "from pyspark.ml.evaluation import MulticlassClassificationEvaluator\n",
        "from pyspark.sql.functions import regexp_replace\n",
        "\n",
        "spark = SparkSession.builder.appName(\"Network Attacks Classifier\").master(\"local\").getOrCreate()\n",
        "spark.sparkContext.setLogLevel(\"ERROR\")\n",
        "\n",
        "\n",
        "features = [\"duration\",\"protocol_type\",\"service\",\"flag\",\"src_bytes\",\n",
        "    \"dst_bytes\",\"land\",\"wrong_fragment\",\"urgent\",\"hot\",\"num_failed_logins\",\n",
        "    \"logged_in\",\"num_compromised\",\"root_shell\",\"su_attempted\",\"num_root\",\n",
        "    \"num_file_creations\",\"num_shells\",\"num_access_files\",\"num_outbound_cmds\",\n",
        "    \"is_host_login\",\"is_guest_login\",\"count\",\"srv_count\",\"serror_rate\",\n",
        "    \"srv_serror_rate\",\"rerror_rate\",\"srv_rerror_rate\",\"same_srv_rate\",\n",
        "    \"diff_srv_rate\",\"srv_diff_host_rate\",\"dst_host_count\",\"dst_host_srv_count\",\n",
        "    \"dst_host_same_srv_rate\",\"dst_host_diff_srv_rate\",\"dst_host_same_src_port_rate\",\n",
        "    \"dst_host_srv_diff_host_rate\",\"dst_host_serror_rate\",\"dst_host_srv_serror_rate\",\n",
        "    \"dst_host_rerror_rate\",\"dst_host_srv_rerror_rate\",\"attack\", \"last_flag\"]\n",
        "\n"
      ],
      "metadata": {
        "id": "DdfOohb3O0iL"
      },
      "execution_count": null,
      "outputs": []
    },
    {
      "cell_type": "code",
      "source": [
        "dataset = spark.read.options(inferSchema='True',delimiter=',') \\\n",
        "  .csv(\"/content/drive/MyDrive/Dissertation/Data.txt\")"
      ],
      "metadata": {
        "id": "Emb3-KnxZ2sL"
      },
      "execution_count": null,
      "outputs": []
    },
    {
      "cell_type": "markdown",
      "source": [
        "##Data Description"
      ],
      "metadata": {
        "id": "elZYy2BAt8av"
      }
    },
    {
      "cell_type": "code",
      "source": [
        "a=dataset.count()\n",
        "b=len(dataset.columns)\n",
        "print(\"Number of Rows: \",a)\n",
        "print(\"Number of Columns: \",b)"
      ],
      "metadata": {
        "colab": {
          "base_uri": "https://localhost:8080/"
        },
        "id": "fBA0K-2zrNCc",
        "outputId": "2dfb4086-9973-466a-d78c-b908a4ee836b"
      },
      "execution_count": null,
      "outputs": [
        {
          "output_type": "stream",
          "name": "stdout",
          "text": [
            "Number of Rows:  125973\n",
            "Number of Columns:  43\n"
          ]
        }
      ]
    },
    {
      "cell_type": "code",
      "source": [
        "dataset.printSchema()"
      ],
      "metadata": {
        "colab": {
          "base_uri": "https://localhost:8080/"
        },
        "id": "SagtjRpnkbMw",
        "outputId": "b479bd59-f455-4d85-8ec8-795208f73b8c"
      },
      "execution_count": null,
      "outputs": [
        {
          "output_type": "stream",
          "name": "stdout",
          "text": [
            "root\n",
            " |-- _c0: integer (nullable = true)\n",
            " |-- _c1: string (nullable = true)\n",
            " |-- _c2: string (nullable = true)\n",
            " |-- _c3: string (nullable = true)\n",
            " |-- _c4: integer (nullable = true)\n",
            " |-- _c5: integer (nullable = true)\n",
            " |-- _c6: integer (nullable = true)\n",
            " |-- _c7: integer (nullable = true)\n",
            " |-- _c8: integer (nullable = true)\n",
            " |-- _c9: integer (nullable = true)\n",
            " |-- _c10: integer (nullable = true)\n",
            " |-- _c11: integer (nullable = true)\n",
            " |-- _c12: integer (nullable = true)\n",
            " |-- _c13: integer (nullable = true)\n",
            " |-- _c14: integer (nullable = true)\n",
            " |-- _c15: integer (nullable = true)\n",
            " |-- _c16: integer (nullable = true)\n",
            " |-- _c17: integer (nullable = true)\n",
            " |-- _c18: integer (nullable = true)\n",
            " |-- _c19: integer (nullable = true)\n",
            " |-- _c20: integer (nullable = true)\n",
            " |-- _c21: integer (nullable = true)\n",
            " |-- _c22: integer (nullable = true)\n",
            " |-- _c23: integer (nullable = true)\n",
            " |-- _c24: double (nullable = true)\n",
            " |-- _c25: double (nullable = true)\n",
            " |-- _c26: double (nullable = true)\n",
            " |-- _c27: double (nullable = true)\n",
            " |-- _c28: double (nullable = true)\n",
            " |-- _c29: double (nullable = true)\n",
            " |-- _c30: double (nullable = true)\n",
            " |-- _c31: integer (nullable = true)\n",
            " |-- _c32: integer (nullable = true)\n",
            " |-- _c33: double (nullable = true)\n",
            " |-- _c34: double (nullable = true)\n",
            " |-- _c35: double (nullable = true)\n",
            " |-- _c36: double (nullable = true)\n",
            " |-- _c37: double (nullable = true)\n",
            " |-- _c38: double (nullable = true)\n",
            " |-- _c39: double (nullable = true)\n",
            " |-- _c40: double (nullable = true)\n",
            " |-- _c41: string (nullable = true)\n",
            " |-- _c42: integer (nullable = true)\n",
            "\n"
          ]
        }
      ]
    },
    {
      "cell_type": "code",
      "source": [
        "dataset = dataset.toDF(*features)"
      ],
      "metadata": {
        "id": "YlgEASSncUEr"
      },
      "execution_count": null,
      "outputs": []
    },
    {
      "cell_type": "code",
      "source": [
        "dataset.show()"
      ],
      "metadata": {
        "colab": {
          "base_uri": "https://localhost:8080/"
        },
        "id": "f0g7vjIHf3Zl",
        "outputId": "d023e095-ce23-419b-a579-1fb5c6d8b9e3"
      },
      "execution_count": null,
      "outputs": [
        {
          "output_type": "stream",
          "name": "stdout",
          "text": [
            "+--------+-------------+----------+----+---------+---------+----+--------------+------+---+-----------------+---------+---------------+----------+------------+--------+------------------+----------+----------------+-----------------+-------------+--------------+-----+---------+-----------+---------------+-----------+---------------+-------------+-------------+------------------+--------------+------------------+----------------------+----------------------+---------------------------+---------------------------+--------------------+------------------------+--------------------+------------------------+-----------+---------+\n",
            "|duration|protocol_type|   service|flag|src_bytes|dst_bytes|land|wrong_fragment|urgent|hot|num_failed_logins|logged_in|num_compromised|root_shell|su_attempted|num_root|num_file_creations|num_shells|num_access_files|num_outbound_cmds|is_host_login|is_guest_login|count|srv_count|serror_rate|srv_serror_rate|rerror_rate|srv_rerror_rate|same_srv_rate|diff_srv_rate|srv_diff_host_rate|dst_host_count|dst_host_srv_count|dst_host_same_srv_rate|dst_host_diff_srv_rate|dst_host_same_src_port_rate|dst_host_srv_diff_host_rate|dst_host_serror_rate|dst_host_srv_serror_rate|dst_host_rerror_rate|dst_host_srv_rerror_rate|     attack|last_flag|\n",
            "+--------+-------------+----------+----+---------+---------+----+--------------+------+---+-----------------+---------+---------------+----------+------------+--------+------------------+----------+----------------+-----------------+-------------+--------------+-----+---------+-----------+---------------+-----------+---------------+-------------+-------------+------------------+--------------+------------------+----------------------+----------------------+---------------------------+---------------------------+--------------------+------------------------+--------------------+------------------------+-----------+---------+\n",
            "|       0|          tcp|  ftp_data|  SF|      491|        0|   0|             0|     0|  0|                0|        0|              0|         0|           0|       0|                 0|         0|               0|                0|            0|             0|    2|        2|        0.0|            0.0|        0.0|            0.0|          1.0|          0.0|               0.0|           150|                25|                  0.17|                  0.03|                       0.17|                        0.0|                 0.0|                     0.0|                0.05|                     0.0|     normal|       20|\n",
            "|       0|          udp|     other|  SF|      146|        0|   0|             0|     0|  0|                0|        0|              0|         0|           0|       0|                 0|         0|               0|                0|            0|             0|   13|        1|        0.0|            0.0|        0.0|            0.0|         0.08|         0.15|               0.0|           255|                 1|                   0.0|                   0.6|                       0.88|                        0.0|                 0.0|                     0.0|                 0.0|                     0.0|     normal|       15|\n",
            "|       0|          tcp|   private|  S0|        0|        0|   0|             0|     0|  0|                0|        0|              0|         0|           0|       0|                 0|         0|               0|                0|            0|             0|  123|        6|        1.0|            1.0|        0.0|            0.0|         0.05|         0.07|               0.0|           255|                26|                   0.1|                  0.05|                        0.0|                        0.0|                 1.0|                     1.0|                 0.0|                     0.0|    neptune|       19|\n",
            "|       0|          tcp|      http|  SF|      232|     8153|   0|             0|     0|  0|                0|        1|              0|         0|           0|       0|                 0|         0|               0|                0|            0|             0|    5|        5|        0.2|            0.2|        0.0|            0.0|          1.0|          0.0|               0.0|            30|               255|                   1.0|                   0.0|                       0.03|                       0.04|                0.03|                    0.01|                 0.0|                    0.01|     normal|       21|\n",
            "|       0|          tcp|      http|  SF|      199|      420|   0|             0|     0|  0|                0|        1|              0|         0|           0|       0|                 0|         0|               0|                0|            0|             0|   30|       32|        0.0|            0.0|        0.0|            0.0|          1.0|          0.0|              0.09|           255|               255|                   1.0|                   0.0|                        0.0|                        0.0|                 0.0|                     0.0|                 0.0|                     0.0|     normal|       21|\n",
            "|       0|          tcp|   private| REJ|        0|        0|   0|             0|     0|  0|                0|        0|              0|         0|           0|       0|                 0|         0|               0|                0|            0|             0|  121|       19|        0.0|            0.0|        1.0|            1.0|         0.16|         0.06|               0.0|           255|                19|                  0.07|                  0.07|                        0.0|                        0.0|                 0.0|                     0.0|                 1.0|                     1.0|    neptune|       21|\n",
            "|       0|          tcp|   private|  S0|        0|        0|   0|             0|     0|  0|                0|        0|              0|         0|           0|       0|                 0|         0|               0|                0|            0|             0|  166|        9|        1.0|            1.0|        0.0|            0.0|         0.05|         0.06|               0.0|           255|                 9|                  0.04|                  0.05|                        0.0|                        0.0|                 1.0|                     1.0|                 0.0|                     0.0|    neptune|       21|\n",
            "|       0|          tcp|   private|  S0|        0|        0|   0|             0|     0|  0|                0|        0|              0|         0|           0|       0|                 0|         0|               0|                0|            0|             0|  117|       16|        1.0|            1.0|        0.0|            0.0|         0.14|         0.06|               0.0|           255|                15|                  0.06|                  0.07|                        0.0|                        0.0|                 1.0|                     1.0|                 0.0|                     0.0|    neptune|       21|\n",
            "|       0|          tcp|remote_job|  S0|        0|        0|   0|             0|     0|  0|                0|        0|              0|         0|           0|       0|                 0|         0|               0|                0|            0|             0|  270|       23|        1.0|            1.0|        0.0|            0.0|         0.09|         0.05|               0.0|           255|                23|                  0.09|                  0.05|                        0.0|                        0.0|                 1.0|                     1.0|                 0.0|                     0.0|    neptune|       21|\n",
            "|       0|          tcp|   private|  S0|        0|        0|   0|             0|     0|  0|                0|        0|              0|         0|           0|       0|                 0|         0|               0|                0|            0|             0|  133|        8|        1.0|            1.0|        0.0|            0.0|         0.06|         0.06|               0.0|           255|                13|                  0.05|                  0.06|                        0.0|                        0.0|                 1.0|                     1.0|                 0.0|                     0.0|    neptune|       21|\n",
            "|       0|          tcp|   private| REJ|        0|        0|   0|             0|     0|  0|                0|        0|              0|         0|           0|       0|                 0|         0|               0|                0|            0|             0|  205|       12|        0.0|            0.0|        1.0|            1.0|         0.06|         0.06|               0.0|           255|                12|                  0.05|                  0.07|                        0.0|                        0.0|                 0.0|                     0.0|                 1.0|                     1.0|    neptune|       21|\n",
            "|       0|          tcp|   private|  S0|        0|        0|   0|             0|     0|  0|                0|        0|              0|         0|           0|       0|                 0|         0|               0|                0|            0|             0|  199|        3|        1.0|            1.0|        0.0|            0.0|         0.02|         0.06|               0.0|           255|                13|                  0.05|                  0.07|                        0.0|                        0.0|                 1.0|                     1.0|                 0.0|                     0.0|    neptune|       21|\n",
            "|       0|          tcp|      http|  SF|      287|     2251|   0|             0|     0|  0|                0|        1|              0|         0|           0|       0|                 0|         0|               0|                0|            0|             0|    3|        7|        0.0|            0.0|        0.0|            0.0|          1.0|          0.0|              0.43|             8|               219|                   1.0|                   0.0|                       0.12|                       0.03|                 0.0|                     0.0|                 0.0|                     0.0|     normal|       21|\n",
            "|       0|          tcp|  ftp_data|  SF|      334|        0|   0|             0|     0|  0|                0|        1|              0|         0|           0|       0|                 0|         0|               0|                0|            0|             0|    2|        2|        0.0|            0.0|        0.0|            0.0|          1.0|          0.0|               0.0|             2|                20|                   1.0|                   0.0|                        1.0|                        0.2|                 0.0|                     0.0|                 0.0|                     0.0|warezclient|       15|\n",
            "|       0|          tcp|      name|  S0|        0|        0|   0|             0|     0|  0|                0|        0|              0|         0|           0|       0|                 0|         0|               0|                0|            0|             0|  233|        1|        1.0|            1.0|        0.0|            0.0|          0.0|         0.06|               0.0|           255|                 1|                   0.0|                  0.07|                        0.0|                        0.0|                 1.0|                     1.0|                 0.0|                     0.0|    neptune|       19|\n",
            "|       0|          tcp|netbios_ns|  S0|        0|        0|   0|             0|     0|  0|                0|        0|              0|         0|           0|       0|                 0|         0|               0|                0|            0|             0|   96|       16|        1.0|            1.0|        0.0|            0.0|         0.17|         0.05|               0.0|           255|                 2|                  0.01|                  0.06|                        0.0|                        0.0|                 1.0|                     1.0|                 0.0|                     0.0|    neptune|       18|\n",
            "|       0|          tcp|      http|  SF|      300|    13788|   0|             0|     0|  0|                0|        1|              0|         0|           0|       0|                 0|         0|               0|                0|            0|             0|    8|        9|        0.0|           0.11|        0.0|            0.0|          1.0|          0.0|              0.22|            91|               255|                   1.0|                   0.0|                       0.01|                       0.02|                 0.0|                     0.0|                 0.0|                     0.0|     normal|       21|\n",
            "|       0|         icmp|     eco_i|  SF|       18|        0|   0|             0|     0|  0|                0|        0|              0|         0|           0|       0|                 0|         0|               0|                0|            0|             0|    1|        1|        0.0|            0.0|        0.0|            0.0|          1.0|          0.0|               0.0|             1|                16|                   1.0|                   0.0|                        1.0|                        1.0|                 0.0|                     0.0|                 0.0|                     0.0|    ipsweep|       18|\n",
            "|       0|          tcp|      http|  SF|      233|      616|   0|             0|     0|  0|                0|        1|              0|         0|           0|       0|                 0|         0|               0|                0|            0|             0|    3|        3|        0.0|            0.0|        0.0|            0.0|          1.0|          0.0|               0.0|            66|               255|                   1.0|                   0.0|                       0.02|                       0.03|                 0.0|                     0.0|                0.02|                     0.0|     normal|       21|\n",
            "|       0|          tcp|      http|  SF|      343|     1178|   0|             0|     0|  0|                0|        1|              0|         0|           0|       0|                 0|         0|               0|                0|            0|             0|    9|       10|        0.0|            0.0|        0.0|            0.0|          1.0|          0.0|               0.2|           157|               255|                   1.0|                   0.0|                       0.01|                       0.04|                 0.0|                     0.0|                 0.0|                     0.0|     normal|       21|\n",
            "+--------+-------------+----------+----+---------+---------+----+--------------+------+---+-----------------+---------+---------------+----------+------------+--------+------------------+----------+----------------+-----------------+-------------+--------------+-----+---------+-----------+---------------+-----------+---------------+-------------+-------------+------------------+--------------+------------------+----------------------+----------------------+---------------------------+---------------------------+--------------------+------------------------+--------------------+------------------------+-----------+---------+\n",
            "only showing top 20 rows\n",
            "\n"
          ]
        }
      ]
    },
    {
      "cell_type": "code",
      "source": [
        "dataset.select(\"attack\").groupBy(\"attack\").count().orderBy(\"count\", ascending=False).show()"
      ],
      "metadata": {
        "colab": {
          "base_uri": "https://localhost:8080/"
        },
        "id": "pvS97g2mhVu4",
        "outputId": "2bdb51c6-fd89-47e6-c5e0-e8574cf836b2"
      },
      "execution_count": null,
      "outputs": [
        {
          "output_type": "stream",
          "name": "stdout",
          "text": [
            "+---------------+-----+\n",
            "|         attack|count|\n",
            "+---------------+-----+\n",
            "|         normal|67343|\n",
            "|        neptune|41214|\n",
            "|          satan| 3633|\n",
            "|        ipsweep| 3599|\n",
            "|      portsweep| 2931|\n",
            "|          smurf| 2646|\n",
            "|           nmap| 1493|\n",
            "|           back|  956|\n",
            "|       teardrop|  892|\n",
            "|    warezclient|  890|\n",
            "|            pod|  201|\n",
            "|   guess_passwd|   53|\n",
            "|buffer_overflow|   30|\n",
            "|    warezmaster|   20|\n",
            "|           land|   18|\n",
            "|           imap|   11|\n",
            "|        rootkit|   10|\n",
            "|     loadmodule|    9|\n",
            "|      ftp_write|    8|\n",
            "|       multihop|    7|\n",
            "+---------------+-----+\n",
            "only showing top 20 rows\n",
            "\n"
          ]
        }
      ]
    },
    {
      "cell_type": "code",
      "source": [
        "dataset.select(\"protocol_type\").groupBy(\"protocol_type\").count().orderBy(\"count\", ascending=False).show()"
      ],
      "metadata": {
        "colab": {
          "base_uri": "https://localhost:8080/"
        },
        "id": "SR0zxzIam59g",
        "outputId": "867c299f-dc5d-4043-c871-818797ae06e5"
      },
      "execution_count": null,
      "outputs": [
        {
          "output_type": "stream",
          "name": "stdout",
          "text": [
            "+-------------+------+\n",
            "|protocol_type| count|\n",
            "+-------------+------+\n",
            "|          tcp|102689|\n",
            "|          udp| 14993|\n",
            "|         icmp|  8291|\n",
            "+-------------+------+\n",
            "\n"
          ]
        }
      ]
    },
    {
      "cell_type": "code",
      "source": [
        "dataset.select(\"service\").groupBy(\"service\").count().orderBy(\"count\", ascending=False).show()"
      ],
      "metadata": {
        "colab": {
          "base_uri": "https://localhost:8080/"
        },
        "id": "WssImo7fnsAb",
        "outputId": "e068d54f-37b7-4447-ce0d-07ad636e8033"
      },
      "execution_count": null,
      "outputs": [
        {
          "output_type": "stream",
          "name": "stdout",
          "text": [
            "+---------+-----+\n",
            "|  service|count|\n",
            "+---------+-----+\n",
            "|     http|40338|\n",
            "|  private|21853|\n",
            "| domain_u| 9043|\n",
            "|     smtp| 7313|\n",
            "| ftp_data| 6860|\n",
            "|    eco_i| 4586|\n",
            "|    other| 4359|\n",
            "|    ecr_i| 3077|\n",
            "|   telnet| 2353|\n",
            "|   finger| 1767|\n",
            "|      ftp| 1754|\n",
            "|     auth|  955|\n",
            "|   Z39_50|  862|\n",
            "|     uucp|  780|\n",
            "|  courier|  734|\n",
            "|      bgp|  710|\n",
            "|    whois|  693|\n",
            "|uucp_path|  689|\n",
            "| iso_tsap|  687|\n",
            "|     time|  654|\n",
            "+---------+-----+\n",
            "only showing top 20 rows\n",
            "\n"
          ]
        }
      ]
    },
    {
      "cell_type": "code",
      "source": [
        "dataset.select(\"flag\").groupBy(\"flag\").count().orderBy(\"count\", ascending=False).show()"
      ],
      "metadata": {
        "colab": {
          "base_uri": "https://localhost:8080/"
        },
        "id": "eCuY9fB2oFrd",
        "outputId": "140c19d7-ff6e-4def-c5cf-100c190ea19d"
      },
      "execution_count": null,
      "outputs": [
        {
          "output_type": "stream",
          "name": "stdout",
          "text": [
            "+------+-----+\n",
            "|  flag|count|\n",
            "+------+-----+\n",
            "|    SF|74945|\n",
            "|    S0|34851|\n",
            "|   REJ|11233|\n",
            "|  RSTR| 2421|\n",
            "|  RSTO| 1562|\n",
            "|    S1|  365|\n",
            "|    SH|  271|\n",
            "|    S2|  127|\n",
            "|RSTOS0|  103|\n",
            "|    S3|   49|\n",
            "|   OTH|   46|\n",
            "+------+-----+\n",
            "\n"
          ]
        }
      ]
    },
    {
      "cell_type": "code",
      "source": [
        "df0=dataset.groupBy(\"attack\").count().orderBy(\"count\", ascending=False)"
      ],
      "metadata": {
        "id": "E64kXZ8snYkv"
      },
      "execution_count": null,
      "outputs": []
    },
    {
      "cell_type": "markdown",
      "source": [
        "##Graph of Attacks Count"
      ],
      "metadata": {
        "id": "hh95dGtbuDK7"
      }
    },
    {
      "cell_type": "code",
      "source": [
        "import matplotlib.pyplot as plt"
      ],
      "metadata": {
        "id": "2IusQlijl1ho"
      },
      "execution_count": null,
      "outputs": []
    },
    {
      "cell_type": "code",
      "source": [
        "x=df0.toPandas()[\"attack\"].values.tolist()\n",
        "y=df0.toPandas()[\"count\"].values.tolist()\n",
        "plt.figure(figsize=(15,5))\n",
        "plt.bar(x,y,color = \"red\")\n",
        "plt.xticks(rotation=90)\n",
        "plt.show()"
      ],
      "metadata": {
        "colab": {
          "base_uri": "https://localhost:8080/",
          "height": 389
        },
        "id": "LiRHSEAfl7YA",
        "outputId": "b56896d3-bdc6-4476-c9f1-2e196d2e2351"
      },
      "execution_count": null,
      "outputs": [
        {
          "output_type": "display_data",
          "data": {
            "text/plain": [
              "<Figure size 1080x360 with 1 Axes>"
            ],
            "image/png": "[encoded data removed]"
          },
          "metadata": {
            "needs_background": "light"
          }
        }
      ]
    },
    {
      "cell_type": "markdown",
      "source": [
        "##Models Implementation"
      ],
      "metadata": {
        "id": "fHq7K69kuj1v"
      }
    },
    {
      "cell_type": "code",
      "source": [
        "categorical_features = [\"protocol_type\", \"service\", \"flag\"]\n",
        "indexers = [StringIndexer(inputCol=column, outputCol=column + \"_num\") for column in categorical_features]\n",
        "indexers.append(StringIndexer(inputCol=\"attack\", outputCol=\"label_num\"))\n",
        "pipeline = Pipeline(stages=indexers)\n",
        "dataset = pipeline.fit(dataset).transform(dataset)"
      ],
      "metadata": {
        "id": "RTEPbBMNRJKJ"
      },
      "execution_count": null,
      "outputs": []
    },
    {
      "cell_type": "code",
      "source": [
        "exclude_list = categorical_features + [\"attack\", \"label_num\"]\n",
        "numerical_cols = [col for col in dataset.columns if col not in exclude_list]\n",
        "print(numerical_cols)"
      ],
      "metadata": {
        "colab": {
          "base_uri": "https://localhost:8080/"
        },
        "id": "VVLGRa0hgpU3",
        "outputId": "668ec267-74bd-4d77-dcaf-03789931db11"
      },
      "execution_count": null,
      "outputs": [
        {
          "output_type": "stream",
          "name": "stdout",
          "text": [
            "['duration', 'src_bytes', 'dst_bytes', 'land', 'wrong_fragment', 'urgent', 'hot', 'num_failed_logins', 'logged_in', 'num_compromised', 'root_shell', 'su_attempted', 'num_root', 'num_file_creations', 'num_shells', 'num_access_files', 'num_outbound_cmds', 'is_host_login', 'is_guest_login', 'count', 'srv_count', 'serror_rate', 'srv_serror_rate', 'rerror_rate', 'srv_rerror_rate', 'same_srv_rate', 'diff_srv_rate', 'srv_diff_host_rate', 'dst_host_count', 'dst_host_srv_count', 'dst_host_same_srv_rate', 'dst_host_diff_srv_rate', 'dst_host_same_src_port_rate', 'dst_host_srv_diff_host_rate', 'dst_host_serror_rate', 'dst_host_srv_serror_rate', 'dst_host_rerror_rate', 'dst_host_srv_rerror_rate', 'last_flag', 'protocol_type_num', 'service_num', 'flag_num']\n"
          ]
        }
      ]
    },
    {
      "cell_type": "code",
      "source": [
        "\n",
        "df_assembler = VectorAssembler(inputCols=numerical_cols, outputCol=\"features\")\n",
        "dataset = df_assembler.transform(dataset)\n",
        "dataset.printSchema()"
      ],
      "metadata": {
        "colab": {
          "base_uri": "https://localhost:8080/"
        },
        "id": "aa0vH2hagsBR",
        "outputId": "934c2e4d-0fba-4472-d910-8b845630a08c"
      },
      "execution_count": null,
      "outputs": [
        {
          "output_type": "stream",
          "name": "stdout",
          "text": [
            "root\n",
            " |-- duration: integer (nullable = true)\n",
            " |-- protocol_type: string (nullable = true)\n",
            " |-- service: string (nullable = true)\n",
            " |-- flag: string (nullable = true)\n",
            " |-- src_bytes: integer (nullable = true)\n",
            " |-- dst_bytes: integer (nullable = true)\n",
            " |-- land: integer (nullable = true)\n",
            " |-- wrong_fragment: integer (nullable = true)\n",
            " |-- urgent: integer (nullable = true)\n",
            " |-- hot: integer (nullable = true)\n",
            " |-- num_failed_logins: integer (nullable = true)\n",
            " |-- logged_in: integer (nullable = true)\n",
            " |-- num_compromised: integer (nullable = true)\n",
            " |-- root_shell: integer (nullable = true)\n",
            " |-- su_attempted: integer (nullable = true)\n",
            " |-- num_root: integer (nullable = true)\n",
            " |-- num_file_creations: integer (nullable = true)\n",
            " |-- num_shells: integer (nullable = true)\n",
            " |-- num_access_files: integer (nullable = true)\n",
            " |-- num_outbound_cmds: integer (nullable = true)\n",
            " |-- is_host_login: integer (nullable = true)\n",
            " |-- is_guest_login: integer (nullable = true)\n",
            " |-- count: integer (nullable = true)\n",
            " |-- srv_count: integer (nullable = true)\n",
            " |-- serror_rate: double (nullable = true)\n",
            " |-- srv_serror_rate: double (nullable = true)\n",
            " |-- rerror_rate: double (nullable = true)\n",
            " |-- srv_rerror_rate: double (nullable = true)\n",
            " |-- same_srv_rate: double (nullable = true)\n",
            " |-- diff_srv_rate: double (nullable = true)\n",
            " |-- srv_diff_host_rate: double (nullable = true)\n",
            " |-- dst_host_count: integer (nullable = true)\n",
            " |-- dst_host_srv_count: integer (nullable = true)\n",
            " |-- dst_host_same_srv_rate: double (nullable = true)\n",
            " |-- dst_host_diff_srv_rate: double (nullable = true)\n",
            " |-- dst_host_same_src_port_rate: double (nullable = true)\n",
            " |-- dst_host_srv_diff_host_rate: double (nullable = true)\n",
            " |-- dst_host_serror_rate: double (nullable = true)\n",
            " |-- dst_host_srv_serror_rate: double (nullable = true)\n",
            " |-- dst_host_rerror_rate: double (nullable = true)\n",
            " |-- dst_host_srv_rerror_rate: double (nullable = true)\n",
            " |-- attack: string (nullable = true)\n",
            " |-- last_flag: integer (nullable = true)\n",
            " |-- protocol_type_num: double (nullable = false)\n",
            " |-- service_num: double (nullable = false)\n",
            " |-- flag_num: double (nullable = false)\n",
            " |-- label_num: double (nullable = false)\n",
            " |-- features: vector (nullable = true)\n",
            "\n"
          ]
        }
      ]
    },
    {
      "cell_type": "code",
      "source": [
        "dataset = dataset.select([\"features\",\"label_num\"])\n",
        "dataset.printSchema()"
      ],
      "metadata": {
        "colab": {
          "base_uri": "https://localhost:8080/"
        },
        "id": "GahOODw7gvVl",
        "outputId": "98d84db6-4fdc-4506-9e1d-e09b522a142e"
      },
      "execution_count": null,
      "outputs": [
        {
          "output_type": "stream",
          "name": "stdout",
          "text": [
            "root\n",
            " |-- features: vector (nullable = true)\n",
            " |-- label_num: double (nullable = false)\n",
            "\n"
          ]
        }
      ]
    },
    {
      "cell_type": "code",
      "source": [
        "train_set, test_set = dataset.randomSplit([0.80, 0.20], seed=2019)\n",
        "print(\"Training set Count: \" + str(train_set.count()))\n",
        "print(\"Test set Count: \" + str(test_set.count()))"
      ],
      "metadata": {
        "colab": {
          "base_uri": "https://localhost:8080/"
        },
        "id": "s987JNH1gyrG",
        "outputId": "7a06430f-44c1-4291-d76d-3628c3f033ad"
      },
      "execution_count": null,
      "outputs": [
        {
          "output_type": "stream",
          "name": "stdout",
          "text": [
            "Training set Count: 100924\n",
            "Test set Count: 25049\n"
          ]
        }
      ]
    },
    {
      "cell_type": "markdown",
      "source": [
        "###Multinomial Naive Bayes"
      ],
      "metadata": {
        "id": "tw7RdM86uqLN"
      }
    },
    {
      "cell_type": "code",
      "source": [
        "start = time.time()\n",
        "nb = NaiveBayes(labelCol=\"label_num\", featuresCol=\"features\", smoothing=1.0, modelType=\"multinomial\")\n",
        "\n",
        "classifiers = {\"Naive Bayes Multinomial\": nb}\n",
        "\n",
        "metrics = [\"accuracy\", \"weightedPrecision\", \"weightedRecall\", \"f1\"]\n",
        "\n",
        "print(\"\\nModels Evaluation:\")\n",
        "print(\"{:-<30}\".format(\"\"))\n",
        "for c in classifiers:\n",
        "\tprint(c)\n",
        "\tmodel = classifiers[c].fit(train_set)\n",
        "\n",
        "\tpredictions = model.transform(test_set)\n",
        "\tpredictions.cache()\n",
        "\n",
        "\tevaluator = MulticlassClassificationEvaluator(labelCol=\"label_num\", predictionCol=\"prediction\")\n",
        "\n",
        "\tfor m in metrics:\n",
        "\t\tevaluator.setMetricName(m)\n",
        "\t\tmetric = evaluator.evaluate(predictions)\n",
        "\t\tprint(\"{name} = {value:.2f}\".format(name=m, value=metric))\n",
        "\n",
        "\tprint(\"{:-<30}\".format(\"\"))\n",
        "\n",
        "stop = time.time()\n",
        "print(\"\\nRunning time for Spark job '{name}': {time:.2f} s\"\n",
        "      .format(name=spark.conf.get(\"spark.app.name\"), time=(stop-start)))"
      ],
      "metadata": {
        "colab": {
          "base_uri": "https://localhost:8080/"
        },
        "id": "XtK_2sJOg3ZF",
        "outputId": "c62e5fff-7a46-40fb-cd59-597ff150c8da"
      },
      "execution_count": null,
      "outputs": [
        {
          "output_type": "stream",
          "name": "stdout",
          "text": [
            "\n",
            "Models Evaluation:\n",
            "------------------------------\n",
            "Naive Bayes Multinomial\n",
            "accuracy = 0.41\n",
            "weightedPrecision = 0.88\n",
            "weightedRecall = 0.41\n",
            "f1 = 0.43\n",
            "------------------------------\n",
            "\n",
            "Running time for Spark job 'Network Attacks Classifier': 5.58 s\n"
          ]
        }
      ]
    },
    {
      "cell_type": "markdown",
      "source": [
        "###Random Forest"
      ],
      "metadata": {
        "id": "RoruooJ6uvQi"
      }
    },
    {
      "cell_type": "code",
      "source": [
        "start = time.time()\n",
        "rf = RandomForestClassifier(labelCol=\"label_num\", featuresCol=\"features\", numTrees=20, maxBins=70)\n",
        "\n",
        "classifiers = {\"Random Forest\": rf}\n",
        "\n",
        "metrics = [\"accuracy\", \"weightedPrecision\", \"weightedRecall\", \"f1\"]\n",
        "\n",
        "print(\"\\nModels Evaluation:\")\n",
        "print(\"{:-<30}\".format(\"\"))\n",
        "for c in classifiers:\n",
        "\tprint(c)\n",
        "\n",
        "\tmodel = classifiers[c].fit(train_set)\n",
        "\n",
        "\n",
        "\tpredictions = model.transform(test_set)\n",
        "\tpredictions.cache()\n",
        "\n",
        "\tevaluator = MulticlassClassificationEvaluator(labelCol=\"label_num\", predictionCol=\"prediction\")\n",
        "\n",
        "\tfor m in metrics:\n",
        "\t\tevaluator.setMetricName(m)\n",
        "\t\tmetric = evaluator.evaluate(predictions)\n",
        "\t\tprint(\"{name} = {value:.2f}\".format(name=m, value=metric))\n",
        "\n",
        "\tprint(\"{:-<30}\".format(\"\"))\n",
        "\n",
        "stop = time.time()\n",
        "print(\"\\nRunning time for Spark job '{name}': {time:.2f} s\"\n",
        "      .format(name=spark.conf.get(\"spark.app.name\"), time=(stop-start)))"
      ],
      "metadata": {
        "colab": {
          "base_uri": "https://localhost:8080/"
        },
        "id": "P6x59ZKjT5uL",
        "outputId": "a5a3d2a4-b347-4652-a890-bd6f7ee9b966"
      },
      "execution_count": null,
      "outputs": [
        {
          "output_type": "stream",
          "name": "stdout",
          "text": [
            "\n",
            "Models Evaluation:\n",
            "------------------------------\n",
            "Random Forest\n",
            "accuracy = 0.97\n",
            "weightedPrecision = 0.96\n",
            "weightedRecall = 0.97\n",
            "f1 = 0.96\n",
            "------------------------------\n",
            "\n",
            "Running time for Spark job 'Network Attacks Classifier': 14.41 s\n"
          ]
        }
      ]
    },
    {
      "cell_type": "markdown",
      "source": [
        "###Decision Tree"
      ],
      "metadata": {
        "id": "Dh9DSyQLuzUg"
      }
    },
    {
      "cell_type": "code",
      "source": [
        "start = time.time()\n",
        "\n",
        "dt = DecisionTreeClassifier(labelCol=\"label_num\", featuresCol=\"features\",  maxBins=70)\n",
        "\n",
        "classifiers = {\"Decision Tree\": dt,\n",
        "               }\n",
        "\n",
        "metrics = [\"accuracy\", \"weightedPrecision\", \"weightedRecall\", \"f1\"]\n",
        "\n",
        "print(\"\\nModels Evaluation:\")\n",
        "print(\"{:-<30}\".format(\"\"))\n",
        "for c in classifiers:\n",
        "\tprint(c)\n",
        "\n",
        "\tmodel = classifiers[c].fit(train_set)\n",
        "\n",
        "\n",
        "\tpredictions = model.transform(test_set)\n",
        "\tpredictions.cache()\n",
        "\n",
        "\n",
        "\tevaluator = MulticlassClassificationEvaluator(labelCol=\"label_num\", predictionCol=\"prediction\")\n",
        "\n",
        "\tfor m in metrics:\n",
        "\t\tevaluator.setMetricName(m)\n",
        "\t\tmetric = evaluator.evaluate(predictions)\n",
        "\t\tprint(\"{name} = {value:.2f}\".format(name=m, value=metric))\n",
        "\n",
        "\tprint(\"{:-<30}\".format(\"\"))\n",
        "\n",
        "stop = time.time()\n",
        "print(\"\\nRunning time for Spark job '{name}': {time:.2f} s\"\n",
        "      .format(name=spark.conf.get(\"spark.app.name\"), time=(stop-start)))"
      ],
      "metadata": {
        "colab": {
          "base_uri": "https://localhost:8080/"
        },
        "id": "wX_6t_Ytnrtv",
        "outputId": "a1f0f529-6422-48dc-bd94-6bbd211837df"
      },
      "execution_count": null,
      "outputs": [
        {
          "output_type": "stream",
          "name": "stdout",
          "text": [
            "\n",
            "Models Evaluation:\n",
            "------------------------------\n",
            "Decision Tree\n",
            "accuracy = 0.98\n",
            "weightedPrecision = 0.98\n",
            "weightedRecall = 0.98\n",
            "f1 = 0.98\n",
            "------------------------------\n",
            "\n",
            "Running time for Spark job 'Network Attacks Classifier': 10.12 s\n"
          ]
        }
      ]
    },
    {
      "cell_type": "markdown",
      "source": [
        "###Logistic Regression"
      ],
      "metadata": {
        "id": "ob2kTL8nu7kx"
      }
    },
    {
      "cell_type": "code",
      "source": [
        "start = time.time()\n",
        "lr = LogisticRegression(maxIter=20, regParam=0.3, elasticNetParam=0.8, featuresCol=\"features\",\n",
        "                        labelCol=\"label_num\", family=\"multinomial\")\n",
        "\n",
        "\n",
        "classifiers = {\"Logistic Regression\": lr}\n",
        "\n",
        "metrics = [\"accuracy\", \"weightedPrecision\", \"weightedRecall\", \"f1\"]\n",
        "\n",
        "print(\"\\nModels Evaluation:\")\n",
        "print(\"{:-<30}\".format(\"\"))\n",
        "for c in classifiers:\n",
        "\tprint(c)\n",
        "\n",
        "\tmodel = classifiers[c].fit(train_set)\n",
        "\n",
        "\n",
        "\tpredictions = model.transform(test_set)\n",
        "\tpredictions.cache()\n",
        "\n",
        "\n",
        "\tevaluator = MulticlassClassificationEvaluator(labelCol=\"label_num\", predictionCol=\"prediction\")\n",
        "\n",
        "\tfor m in metrics:\n",
        "\t\tevaluator.setMetricName(m)\n",
        "\t\tmetric = evaluator.evaluate(predictions)\n",
        "\t\tprint(\"{name} = {value:.2f}\".format(name=m, value=metric))\n",
        "\n",
        "\tprint(\"{:-<30}\".format(\"\"))\n",
        "\n",
        "stop = time.time()\n",
        "print(\"\\nRunning time for Spark job '{name}': {time:.2f} s\"\n",
        "      .format(name=spark.conf.get(\"spark.app.name\"), time=(stop-start)))"
      ],
      "metadata": {
        "colab": {
          "base_uri": "https://localhost:8080/"
        },
        "id": "KVO9v59wt7_F",
        "outputId": "67fbf146-b744-4fd7-aa42-918e1b303b8d"
      },
      "execution_count": null,
      "outputs": [
        {
          "output_type": "stream",
          "name": "stdout",
          "text": [
            "\n",
            "Models Evaluation:\n",
            "------------------------------\n",
            "Logistic Regression\n",
            "accuracy = 0.80\n",
            "weightedPrecision = 0.72\n",
            "weightedRecall = 0.80\n",
            "f1 = 0.75\n",
            "------------------------------\n",
            "\n",
            "Running time for Spark job 'Network Attacks Classifier': 14.09 s\n"
          ]
        }
      ]
    },
    {
      "cell_type": "markdown",
      "source": [
        "Reference:\n",
        "\n",
        "https://www.pauldesalvo.com/how-to-install-spark-on-google-colab/\n",
        "\n"
      ],
      "metadata": {
        "id": "6Op7GgaNoUR2"
      }
    }
  ]
}